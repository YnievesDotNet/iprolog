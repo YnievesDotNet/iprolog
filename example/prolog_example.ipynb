{
 "cells": [
  {
   "cell_type": "code",
   "execution_count": 1,
   "metadata": {},
   "outputs": [
    {
     "name": "stdout",
     "output_type": "stream",
     "text": [
      "['example/friends.pl'].\r\n",
      "compiling /root/iprolog/example/friends.pl for byte code...\r\n",
      "/root/iprolog/example/friends.pl compiled, 5 lines read - 968 bytes written, 5 ms\r\n",
      "\r\n",
      "yes\r\n"
     ]
    }
   ],
   "source": [
    "['example/friends.pl']."
   ]
  },
  {
   "cell_type": "code",
   "execution_count": 2,
   "metadata": {},
   "outputs": [
    {
     "name": "stdout",
     "output_type": "stream",
     "text": [
      "likes(wallace, cheese).\r\n",
      "\r\n",
      "yes\r\n"
     ]
    }
   ],
   "source": [
    "likes(wallace, cheese)."
   ]
  },
  {
   "cell_type": "code",
   "execution_count": 3,
   "metadata": {},
   "outputs": [
    {
     "name": "stdout",
     "output_type": "stream",
     "text": [
      "likes(grommit, sheep).\r\n",
      "\r\n",
      "no\r\n"
     ]
    }
   ],
   "source": [
    "likes(grommit, sheep)."
   ]
  },
  {
   "cell_type": "code",
   "execution_count": 4,
   "metadata": {},
   "outputs": [
    {
     "name": "stdout",
     "output_type": "stream",
     "text": [
      "friend(wallace, wallace).\r\n",
      "\r\n",
      "no\r\n"
     ]
    }
   ],
   "source": [
    "friend(wallace, wallace)."
   ]
  },
  {
   "cell_type": "code",
   "execution_count": 5,
   "metadata": {},
   "outputs": [
    {
     "name": "stdout",
     "output_type": "stream",
     "text": [
      "friend(wallace, grommit).\r\n",
      "\r\n",
      "yes\r\n"
     ]
    }
   ],
   "source": [
    "friend(wallace, grommit)."
   ]
  },
  {
   "cell_type": "code",
   "execution_count": 6,
   "metadata": {},
   "outputs": [
    {
     "name": "stdout",
     "output_type": "stream",
     "text": [
      "friend(wallace, wendolene).\r\n",
      "\r\n",
      "no\r\n"
     ]
    }
   ],
   "source": [
    "friend(wallace, wendolene)."
   ]
  },
  {
   "cell_type": "code",
   "execution_count": null,
   "metadata": {
    "collapsed": true
   },
   "outputs": [],
   "source": []
  }
 ],
 "metadata": {
  "kernelspec": {
   "display_name": "Prolog",
   "language": "prolog",
   "name": "prolog"
  },
  "language_info": {
   "codemirror_mode": "scheme",
   "file_extension": ".pl",
   "mimetype": "text/plain",
   "name": "Prolog"
  }
 },
 "nbformat": 4,
 "nbformat_minor": 2
}
